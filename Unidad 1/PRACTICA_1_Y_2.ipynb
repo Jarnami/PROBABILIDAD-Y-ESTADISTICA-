{
  "nbformat": 4,
  "nbformat_minor": 0,
  "metadata": {
    "colab": {
      "provenance": [],
      "toc_visible": true,
      "include_colab_link": true
    },
    "kernelspec": {
      "name": "python3",
      "display_name": "Python 3"
    },
    "language_info": {
      "name": "python"
    }
  },
  "cells": [
    {
      "cell_type": "markdown",
      "metadata": {
        "id": "view-in-github",
        "colab_type": "text"
      },
      "source": [
        "<a href=\"https://colab.research.google.com/github/Jarnami/PROBABILIDAD-Y-ESTADISTICA-/blob/main/Unidad%201/PRACTICA_1_Y_2.ipynb\" target=\"_parent\"><img src=\"https://colab.research.google.com/assets/colab-badge.svg\" alt=\"Open In Colab\"/></a>"
      ]
    },
    {
      "cell_type": "markdown",
      "source": [
        "#Importar la librería statistics"
      ],
      "metadata": {
        "id": "Pon96VaSThst"
      }
    },
    {
      "cell_type": "code",
      "execution_count": 1,
      "metadata": {
        "id": "Dkm9_taITO5s"
      },
      "outputs": [],
      "source": [
        "from statistics import *"
      ]
    },
    {
      "cell_type": "markdown",
      "source": [
        "#Ejemplo 1: Registro de calificaciones de 12  alumnos"
      ],
      "metadata": {
        "id": "ZIHaAuPWTxsv"
      }
    },
    {
      "cell_type": "code",
      "source": [
        "# Lista de calificaciones del grupo a de probabilidad y estadística\n",
        "\n",
        "grupoa = [70, 70, 65, 90, 100, 95, 45, 80, 73, 20, 100, 96]\n",
        "print(grupoa)"
      ],
      "metadata": {
        "colab": {
          "base_uri": "https://localhost:8080/"
        },
        "id": "nOG9dpFvUGbE",
        "outputId": "ff2921be-0553-4200-a3bb-0dd0220f7945"
      },
      "execution_count": 2,
      "outputs": [
        {
          "output_type": "stream",
          "name": "stdout",
          "text": [
            "[70, 70, 65, 90, 100, 95, 45, 80, 73, 20, 100, 96]\n"
          ]
        }
      ]
    },
    {
      "cell_type": "code",
      "source": [
        "# la función type nos devuelve el tipo de dato de la variable\n",
        "type(grupoa)"
      ],
      "metadata": {
        "colab": {
          "base_uri": "https://localhost:8080/"
        },
        "id": "wJU8181rUfRP",
        "outputId": "45798457-7bbf-435b-ed3f-52215127e426"
      },
      "execution_count": null,
      "outputs": [
        {
          "output_type": "execute_result",
          "data": {
            "text/plain": [
              "list"
            ]
          },
          "metadata": {},
          "execution_count": 4
        }
      ]
    },
    {
      "cell_type": "markdown",
      "source": [
        "##Determinar la media del ejemplo 1"
      ],
      "metadata": {
        "id": "91WYkwn-UqJ0"
      }
    },
    {
      "cell_type": "code",
      "source": [
        "# Sacar la media de las calificaciones con una fórmula\n",
        "# La función len, me regresa la longitud de la lista\n",
        "\n",
        "promedio = sum(grupoa) / len(grupoa)\n",
        "print(promedio)"
      ],
      "metadata": {
        "colab": {
          "base_uri": "https://localhost:8080/"
        },
        "id": "b-BY9MI0U4kq",
        "outputId": "f34d9fb8-fd46-41d3-a871-9b119f2504cd"
      },
      "execution_count": 3,
      "outputs": [
        {
          "output_type": "stream",
          "name": "stdout",
          "text": [
            "75.33333333333333\n"
          ]
        }
      ]
    },
    {
      "cell_type": "code",
      "source": [
        "# Utilizar la funcion mean que esta en la librería statistics para sacar\n",
        "# el promedio\n",
        "\n",
        "promedio2 = mean(grupoa)\n",
        "print(promedio2)"
      ],
      "metadata": {
        "colab": {
          "base_uri": "https://localhost:8080/"
        },
        "id": "BCuXcZ9AVbdx",
        "outputId": "45a7c63a-7c3c-47ca-cd2e-920106e5eccd"
      },
      "execution_count": 4,
      "outputs": [
        {
          "output_type": "stream",
          "name": "stdout",
          "text": [
            "75.33333333333333\n"
          ]
        }
      ]
    },
    {
      "cell_type": "markdown",
      "source": [
        "##Determinar la mediana del ejemplo 1"
      ],
      "metadata": {
        "id": "ab_fghtPWLY9"
      }
    },
    {
      "cell_type": "code",
      "source": [
        "# Determinar el valor de la mediana con la funcion median\n",
        "\n",
        "mediana = median(grupoa)\n",
        "print(mediana)"
      ],
      "metadata": {
        "colab": {
          "base_uri": "https://localhost:8080/"
        },
        "id": "CFNkhm07WTN2",
        "outputId": "f34824d6-7735-4730-9537-c7ccf3079f3a"
      },
      "execution_count": 5,
      "outputs": [
        {
          "output_type": "stream",
          "name": "stdout",
          "text": [
            "76.5\n"
          ]
        }
      ]
    },
    {
      "cell_type": "markdown",
      "source": [
        "##Determinar la moda del ejemplo 1"
      ],
      "metadata": {
        "id": "q4WRRtBRWx7s"
      }
    },
    {
      "cell_type": "code",
      "source": [
        "# Determinar el valor de la moda con la funcion mode\n",
        "\n",
        "moda = mode(grupoa)\n",
        "print(moda)"
      ],
      "metadata": {
        "colab": {
          "base_uri": "https://localhost:8080/"
        },
        "id": "ZkGwdKtxW-Ki",
        "outputId": "b84183be-ec6f-46ff-e527-e06e5b53e593"
      },
      "execution_count": 6,
      "outputs": [
        {
          "output_type": "stream",
          "name": "stdout",
          "text": [
            "70\n"
          ]
        }
      ]
    },
    {
      "cell_type": "code",
      "source": [
        "# En caso de que allá mas de una moda usar la funcion multimode\n",
        "\n",
        "moda2 = multimode(grupoa)\n",
        "print(moda2)"
      ],
      "metadata": {
        "colab": {
          "base_uri": "https://localhost:8080/"
        },
        "id": "EZ5Qt47GXrFB",
        "outputId": "b951851b-33c1-4c46-9383-e0008ab8ff08"
      },
      "execution_count": null,
      "outputs": [
        {
          "output_type": "stream",
          "name": "stdout",
          "text": [
            "[70, 100]\n"
          ]
        }
      ]
    },
    {
      "cell_type": "markdown",
      "source": [
        "#Ejemplo 2. Tiempos de 100 metros de un grupo de 12 alumnos"
      ],
      "metadata": {
        "id": "Gic3EstPXM-3"
      }
    },
    {
      "cell_type": "code",
      "source": [
        "# Definimos una variable llamada tiempos100mts de tipo lista, que contiene los\n",
        "# tiempos que tardan los 10 alumnos para correr los 100 metros\n",
        "\n",
        "tiempos100mts = [15.10, 17.20, 14.69, 13.27, 22.15, 18.71, 19.15, 20.65, 15.10, 17.20]\n",
        "\n",
        "# Desplegamos los valores de la lista\n",
        "\n",
        "print(tiempos100mts)"
      ],
      "metadata": {
        "colab": {
          "base_uri": "https://localhost:8080/"
        },
        "id": "apGNLd-yYb3-",
        "outputId": "40cbb3ce-05f5-4709-a8d4-c2c8eac77d2c"
      },
      "execution_count": 7,
      "outputs": [
        {
          "output_type": "stream",
          "name": "stdout",
          "text": [
            "[15.1, 17.2, 14.69, 13.27, 22.15, 18.71, 19.15, 20.65, 15.1, 17.2]\n"
          ]
        }
      ]
    },
    {
      "cell_type": "markdown",
      "source": [
        "##Funcion mean para calcular el promedio"
      ],
      "metadata": {
        "id": "njLWU2k5ZBZA"
      }
    },
    {
      "cell_type": "code",
      "source": [
        "# Usamos la funcion mean para determinar el tiempo promedio de la lista de valores\n",
        "\n",
        "print(\"El tiempo promedio de los corredores es=>\", mean(tiempos100mts) )"
      ],
      "metadata": {
        "colab": {
          "base_uri": "https://localhost:8080/"
        },
        "id": "vC6IupmPZGAl",
        "outputId": "89a16c1b-5d5b-437e-d3c8-bae57925094c"
      },
      "execution_count": 8,
      "outputs": [
        {
          "output_type": "stream",
          "name": "stdout",
          "text": [
            "El tiempo promedio de los corredores es=> 17.322\n"
          ]
        }
      ]
    },
    {
      "cell_type": "markdown",
      "source": [
        "##Funcion median para calcular la mediana"
      ],
      "metadata": {
        "id": "9eY45MZPZxFd"
      }
    },
    {
      "cell_type": "code",
      "source": [
        "# Usamos la funcion median para determinar el tiempo promedio de la lista de valores\n",
        "\n",
        "# definimos una variable llamada mediana para calcular la mediana de la lista con la funcion\n",
        "# median\n",
        "\n",
        "mediana = median(tiempos100mts)\n",
        "print(\"la media de los tiempos de los corredores es=>\", mediana )"
      ],
      "metadata": {
        "colab": {
          "base_uri": "https://localhost:8080/"
        },
        "id": "Fgy-KDgBaDtk",
        "outputId": "b1aeb116-0427-44ff-832c-fc5a14f28fd7"
      },
      "execution_count": 9,
      "outputs": [
        {
          "output_type": "stream",
          "name": "stdout",
          "text": [
            "la media de los tiempos de los corredores es=> 17.2\n"
          ]
        }
      ]
    },
    {
      "cell_type": "markdown",
      "source": [
        "##Funcion mode para calcular la moda"
      ],
      "metadata": {
        "id": "IqrPzki7agys"
      }
    },
    {
      "cell_type": "code",
      "source": [
        "# Definimos una variable llamada moda para calcular la moda de la lista con la funcion\n",
        "# mode\n",
        "\n",
        "moda = mode(tiempos100mts)\n",
        "print(\"La moda de los tiempos es=>\", moda)"
      ],
      "metadata": {
        "colab": {
          "base_uri": "https://localhost:8080/"
        },
        "id": "_ApclYpZak-w",
        "outputId": "55beecb9-de23-46c5-bed7-57eb79b16797"
      },
      "execution_count": 10,
      "outputs": [
        {
          "output_type": "stream",
          "name": "stdout",
          "text": [
            "La moda de los tiempos es=> 15.1\n"
          ]
        }
      ]
    },
    {
      "cell_type": "markdown",
      "source": [
        "##Funcion multimode para calcular múltiples modas"
      ],
      "metadata": {
        "id": "TLa33USZbLyx"
      }
    },
    {
      "cell_type": "code",
      "source": [
        "multimodas = multimode(tiempos100mts)\n",
        "print(\"La moda de los tiempos es=>\", multimodas)"
      ],
      "metadata": {
        "colab": {
          "base_uri": "https://localhost:8080/"
        },
        "id": "9__nIYRwbUbg",
        "outputId": "75e6c4bd-0580-4387-c4ad-42b98c568258"
      },
      "execution_count": 11,
      "outputs": [
        {
          "output_type": "stream",
          "name": "stdout",
          "text": [
            "La moda de los tiempos es=> [15.1, 17.2]\n"
          ]
        }
      ]
    },
    {
      "cell_type": "markdown",
      "source": [
        "#Ejemplo 3: Histogramas de 2 grupos"
      ],
      "metadata": {
        "id": "WkUX-0H4biK2"
      }
    },
    {
      "cell_type": "code",
      "source": [
        "# Librería para generar numeros aleatorios\n",
        "import random"
      ],
      "metadata": {
        "id": "VzmN9q1mbluD"
      },
      "execution_count": 12,
      "outputs": []
    },
    {
      "cell_type": "code",
      "source": [
        "fabrica1 = []\n",
        "for i in range(100):\n",
        "    numero_aleatorio = round(random.uniform(50, 100), 2)\n",
        "    fabrica1.append(numero_aleatorio)\n",
        "print(fabrica1)"
      ],
      "metadata": {
        "colab": {
          "base_uri": "https://localhost:8080/"
        },
        "id": "4GAGAgtWb8th",
        "outputId": "7dc8d658-fdfc-423b-f7ab-d112e0dba5d6"
      },
      "execution_count": 14,
      "outputs": [
        {
          "output_type": "stream",
          "name": "stdout",
          "text": [
            "[65.59, 56.55, 65.97, 62.33, 88.79, 74.98, 61.0, 82.48, 92.06, 50.55, 58.56, 60.54, 89.34, 76.0, 78.4, 85.47, 81.59, 99.09, 75.41, 77.91, 86.0, 79.29, 97.94, 85.51, 77.81, 78.77, 80.74, 70.91, 99.25, 62.79, 85.88, 66.01, 63.84, 61.75, 67.52, 95.13, 90.94, 88.6, 95.52, 80.56, 88.3, 64.34, 82.42, 52.43, 79.4, 80.62, 77.91, 68.56, 97.98, 79.88, 59.13, 81.02, 95.21, 81.69, 89.64, 88.8, 99.54, 67.69, 54.21, 99.17, 63.8, 80.92, 80.85, 92.28, 89.43, 52.73, 84.77, 77.84, 78.29, 86.59, 68.01, 62.22, 62.3, 91.91, 91.49, 95.19, 70.26, 77.75, 57.29, 98.14, 88.77, 96.1, 58.19, 72.08, 95.98, 94.93, 74.63, 56.02, 58.53, 75.1, 64.37, 62.78, 62.83, 89.28, 87.91, 95.38, 52.84, 75.37, 63.56, 66.14]\n"
          ]
        }
      ]
    },
    {
      "cell_type": "code",
      "source": [
        "fabrica2 = []\n",
        "for i in range(100):\n",
        "    numero_aleatorio2 = round( random.uniform(50, 100), 2)\n",
        "    fabrica2.append(numero_aleatorio2)\n",
        "print(fabrica2)"
      ],
      "metadata": {
        "colab": {
          "base_uri": "https://localhost:8080/"
        },
        "id": "pJSlCiNqdNH_",
        "outputId": "b96a2a0f-d821-438c-fe78-254719188634"
      },
      "execution_count": 15,
      "outputs": [
        {
          "output_type": "stream",
          "name": "stdout",
          "text": [
            "[92.86, 78.4, 68.43, 52.05, 66.65, 77.31, 64.37, 71.43, 77.89, 51.2, 88.05, 83.49, 77.72, 67.02, 95.68, 93.08, 85.44, 82.28, 78.21, 58.6, 82.39, 74.99, 84.71, 76.06, 78.56, 63.2, 97.06, 81.28, 66.07, 68.33, 58.99, 51.48, 95.1, 54.16, 91.45, 83.33, 51.55, 95.1, 69.77, 75.91, 84.15, 88.74, 51.08, 94.19, 86.32, 67.13, 71.48, 76.9, 69.09, 98.78, 72.77, 63.26, 74.79, 56.62, 87.01, 84.03, 69.23, 78.67, 52.58, 89.64, 78.06, 83.35, 71.41, 86.53, 57.31, 58.24, 75.09, 73.08, 66.92, 95.33, 84.82, 77.64, 83.92, 85.46, 63.89, 57.83, 60.09, 72.38, 74.07, 74.71, 86.23, 53.7, 82.39, 72.52, 74.81, 51.56, 69.88, 66.08, 73.2, 86.63, 65.54, 50.3, 61.78, 94.33, 79.63, 65.9, 93.23, 98.27, 75.51, 88.11]\n"
          ]
        }
      ]
    },
    {
      "cell_type": "code",
      "source": [
        "# librería de python para graficar valores\n",
        "import matplotlib.pyplot as plt"
      ],
      "metadata": {
        "id": "wEwvSx5td07m"
      },
      "execution_count": 17,
      "outputs": []
    },
    {
      "cell_type": "code",
      "source": [
        "plt.hist(fabrica1)\n",
        "plt.title(\"Producción diaria de la fábrica 1\")"
      ],
      "metadata": {
        "colab": {
          "base_uri": "https://localhost:8080/",
          "height": 469
        },
        "id": "ubZxxGKgeI0g",
        "outputId": "d1373065-82d3-4a54-a3c7-d665436e6c41"
      },
      "execution_count": 30,
      "outputs": [
        {
          "output_type": "execute_result",
          "data": {
            "text/plain": [
              "Text(0.5, 1.0, 'Producción diaria de la fábrica 1')"
            ]
          },
          "metadata": {},
          "execution_count": 30
        },
        {
          "output_type": "display_data",
          "data": {
            "text/plain": [
              "<Figure size 640x480 with 1 Axes>"
            ],
            "image/png": "[encoded data removed]"
          },
          "metadata": {}
        }
      ]
    },
    {
      "cell_type": "code",
      "source": [
        "plt.hist(fabrica2)\n",
        "plt.title(\"Producción diaria de la fábrica 2\")"
      ],
      "metadata": {
        "colab": {
          "base_uri": "https://localhost:8080/",
          "height": 469
        },
        "id": "N1yaQulPebX9",
        "outputId": "0794b55a-8117-41d6-ae5b-543df3fe787e"
      },
      "execution_count": 19,
      "outputs": [
        {
          "output_type": "execute_result",
          "data": {
            "text/plain": [
              "Text(0.5, 1.0, 'Producción diaria de la fábrica 2')"
            ]
          },
          "metadata": {},
          "execution_count": 19
        },
        {
          "output_type": "display_data",
          "data": {
            "text/plain": [
              "<Figure size 640x480 with 1 Axes>"
            ],
            "image/png": "[encoded data removed]"
          },
          "metadata": {}
        }
      ]
    },
    {
      "cell_type": "code",
      "source": [
        "media1 = mean(fabrica1)\n",
        "mediana1 = median(fabrica1)\n",
        "moda1 = mode(fabrica1)\n",
        "\n",
        "print(\"Valores de la fabrica 1\")\n",
        "print(\"La media es=\", media1)\n",
        "print(\"La mediana es=\", mediana1)\n",
        "print(\"La moda es=\", moda1)"
      ],
      "metadata": {
        "colab": {
          "base_uri": "https://localhost:8080/"
        },
        "id": "5tD93Ux_d8ET",
        "outputId": "ca9115cb-fca7-492d-d48a-5e90d023c847"
      },
      "execution_count": 20,
      "outputs": [
        {
          "output_type": "stream",
          "name": "stdout",
          "text": [
            "Valores de la fabrica 1\n",
            "La media es= 77.3816\n",
            "La mediana es= 78.58500000000001\n",
            "La moda es= 77.91\n"
          ]
        }
      ]
    },
    {
      "cell_type": "code",
      "source": [
        "media2 = mean(fabrica2)\n",
        "mediana2 = median(fabrica2)\n",
        "moda2 = mode(fabrica2)\n",
        "\n",
        "print(\"Valores de la fabrica 2\")\n",
        "print(\"La media es=\", media2)\n",
        "print(\"La mediana es=\", mediana2)\n",
        "print(\"La moda es=\", moda2)"
      ],
      "metadata": {
        "colab": {
          "base_uri": "https://localhost:8080/"
        },
        "id": "X_Wa-ccjeYgj",
        "outputId": "5282fe68-8a45-4f29-a562-e398f4c867dd"
      },
      "execution_count": 29,
      "outputs": [
        {
          "output_type": "stream",
          "name": "stdout",
          "text": [
            "Valores de la fabrica 2\n",
            "La media es= 74.9584\n",
            "La mediana es= 75.30000000000001\n",
            "La moda es= 82.39\n"
          ]
        }
      ]
    },
    {
      "cell_type": "code",
      "source": [
        "# Generar 2 subplot de 1 renglón por 2 columnas para desplegar los 2 histogramas,\n",
        "# una al lado de la otra\n",
        "\n",
        "fig, (ax1, ax2) = plt.subplots(nrows =1, ncols=2, figsize=(10, 5))\n",
        "ax1.hist(fabrica1)\n",
        "ax2.hist(fabrica2)\n",
        "plt.show()"
      ],
      "metadata": {
        "colab": {
          "base_uri": "https://localhost:8080/",
          "height": 445
        },
        "id": "WtI_CqbMe3_K",
        "outputId": "0c05593f-d169-45fa-ab84-7b7c276c4e05"
      },
      "execution_count": 28,
      "outputs": [
        {
          "output_type": "display_data",
          "data": {
            "text/plain": [
              "<Figure size 1000x500 with 2 Axes>"
            ],
            "image/png": "[encoded data removed]"
          },
          "metadata": {}
        }
      ]
    },
    {
      "cell_type": "code",
      "source": [
        "plt.hist(fabrica1, bins=10, alpha=0.2, color='b', edgecolor = \"black\")\n",
        "plt.axvline(media1, color='b', linestyle='dashed', linewidth=2, label='Media')\n",
        "plt.axvline(mediana1, color='r', linestyle='dashed', linewidth=2, label='Mediana')\n",
        "plt.axvline(moda1, color='y', linestyle='dashed', linewidth=2, label='Moda')\n",
        "plt.xlabel('Valor')\n",
        "plt.ylabel('Frecuencia')\n",
        "plt.title(\"Producción diaria de la fabrica 1\")\n",
        "plt.legend()\n",
        "plt.show()"
      ],
      "metadata": {
        "colab": {
          "base_uri": "https://localhost:8080/",
          "height": 472
        },
        "id": "aXHDkS1EgyYx",
        "outputId": "17678ee9-c0e4-4e16-97be-1f43f61fec26"
      },
      "execution_count": 27,
      "outputs": [
        {
          "output_type": "display_data",
          "data": {
            "text/plain": [
              "<Figure size 640x480 with 1 Axes>"
            ],
            "image/png": "[encoded data removed]"
          },
          "metadata": {}
        }
      ]
    },
    {
      "cell_type": "code",
      "source": [
        "plt.hist(fabrica2, bins=10, alpha=0.2, color='b', edgecolor = \"black\")\n",
        "plt.axvline(media2, color='b', linestyle='dashed', linewidth=2, label='Media')\n",
        "plt.axvline(mediana2, color='r', linestyle='dashed', linewidth=2, label='Mediana')\n",
        "plt.axvline(moda2, color='y', linestyle='dashed', linewidth=2, label='Moda')\n",
        "plt.xlabel('Valor')\n",
        "plt.ylabel('Frecuencia')\n",
        "plt.title(\"Producción diaria de la fabrica 2\")\n",
        "plt.legend()\n",
        "plt.show()"
      ],
      "metadata": {
        "colab": {
          "base_uri": "https://localhost:8080/",
          "height": 472
        },
        "id": "ij0vL9kAjmqw",
        "outputId": "2d044105-65bf-4aec-f097-6f0281804d57"
      },
      "execution_count": 26,
      "outputs": [
        {
          "output_type": "display_data",
          "data": {
            "text/plain": [
              "<Figure size 640x480 with 1 Axes>"
            ],
            "image/png": "[encoded data removed]"
          },
          "metadata": {}
        }
      ]
    }
  ]
}