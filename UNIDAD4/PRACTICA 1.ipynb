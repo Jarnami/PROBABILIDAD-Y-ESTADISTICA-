{
  "nbformat": 4,
  "nbformat_minor": 0,
  "metadata": {
    "colab": {
      "provenance": [],
      "authorship_tag": "ABX9TyM6wxMmHD6C0HCQ4Y0uCXMA",
      "include_colab_link": true
    },
    "kernelspec": {
      "name": "python3",
      "display_name": "Python 3"
    },
    "language_info": {
      "name": "python"
    }
  },
  "cells": [
    {
      "cell_type": "markdown",
      "metadata": {
        "id": "view-in-github",
        "colab_type": "text"
      },
      "source": [
        "<a href=\"https://colab.research.google.com/github/Jarnami/PROBABILIDAD-Y-ESTADISTICA-/blob/main/UNIDAD4/PRACTICA%201.ipynb\" target=\"_parent\"><img src=\"https://colab.research.google.com/assets/colab-badge.svg\" alt=\"Open In Colab\"/></a>"
      ]
    },
    {
      "cell_type": "markdown",
      "source": [
        "# **UNIDAD 4**\n",
        "### **Practica 1**\n",
        "### **DISTRIBUCION NORMAL**\n",
        "\n",
        "## Facilitador: Jose Gabriel Rivas\n",
        "## Alumno: Jatziri Nahomi Morales Rodriguez\n",
        "\n",
        "## **Aplicar variables aleatorias continuas, (Numero finito de valores).**\n",
        "\n"
      ],
      "metadata": {
        "id": "Hd5DD8fGtVK1"
      }
    },
    {
      "cell_type": "code",
      "execution_count": 5,
      "metadata": {
        "id": "W-qHox2-tUo7"
      },
      "outputs": [],
      "source": [
        "import numpy as np\n",
        "import matplotlib.pyplot as plt\n",
        "from scipy.stats import norm\n"
      ]
    },
    {
      "cell_type": "code",
      "source": [
        "#Generar datos para la distribucion normal\n",
        "\n",
        "media = 70 #Media\n",
        "desv_std = 4 #Desviacion estandar\n",
        "num_datos =500\n",
        "\n",
        "#Generamos los datos de manera aleatoria y los ponemos en una lista (array)\n",
        "datos= np.random.normal(media, desv_std, num_datos)\n",
        "datos[0:50] #Mostrar los primeros 50\n"
      ],
      "metadata": {
        "colab": {
          "base_uri": "https://localhost:8080/"
        },
        "id": "Vw9cuLAWuJE1",
        "outputId": "25568964-1ae5-4dba-d4a6-591bba53e101"
      },
      "execution_count": 9,
      "outputs": [
        {
          "output_type": "execute_result",
          "data": {
            "text/plain": [
              "array([75.15584169, 66.71722079, 73.33848809, 67.29484172, 66.038125  ,\n",
              "       68.88713244, 70.323004  , 71.75978668, 63.04377132, 62.91205114,\n",
              "       66.93725823, 74.64522139, 70.14974341, 70.73483594, 72.32061022,\n",
              "       75.1203255 , 69.41190904, 73.77893467, 72.17192654, 79.3451861 ,\n",
              "       70.39558436, 65.51128219, 71.84339918, 77.40109032, 68.93828266,\n",
              "       71.05519296, 69.84662283, 63.89031505, 63.67930707, 74.93404019,\n",
              "       65.81078951, 73.42244904, 75.32040145, 69.00779722, 71.97317161,\n",
              "       71.28744082, 72.27460751, 69.08011413, 68.2245405 , 82.30128962,\n",
              "       70.94064575, 69.52861456, 70.53922984, 69.021699  , 67.37850246,\n",
              "       62.4160308 , 67.36848986, 63.41071317, 73.91204515, 68.48897204])"
            ]
          },
          "metadata": {},
          "execution_count": 9
        }
      ]
    },
    {
      "cell_type": "code",
      "source": [
        "#Creae un rango de valores para crear una densidad\n",
        "x = np.linspace(media - 3 * desv_std, media + 3 * desv_std, num_datos)\n",
        "\n",
        "#Calculas la pdf de la distribucion normal\n",
        "pdf=1/ desv_std * np.sqrt(2 * np.pi) * np.exp(-(x - media) **2 / (2 * desv_std **2))\n",
        "print(\"Imprimir los primeros 50 valores de x\", x[0:50], \" y los primeros 5o pdr, pdf[0:50]\")\n"
      ],
      "metadata": {
        "colab": {
          "base_uri": "https://localhost:8080/"
        },
        "id": "avpcR0G0wK5Y",
        "outputId": "085c7140-ef5d-4ea2-be64-2ae5412dccb2"
      },
      "execution_count": 10,
      "outputs": [
        {
          "output_type": "stream",
          "name": "stdout",
          "text": [
            "Imprimir los primeros 50 valores de x [58.         58.04809619 58.09619238 58.14428858 58.19238477 58.24048096\n",
            " 58.28857715 58.33667335 58.38476954 58.43286573 58.48096192 58.52905812\n",
            " 58.57715431 58.6252505  58.67334669 58.72144289 58.76953908 58.81763527\n",
            " 58.86573146 58.91382766 58.96192385 59.01002004 59.05811623 59.10621242\n",
            " 59.15430862 59.20240481 59.250501   59.29859719 59.34669339 59.39478958\n",
            " 59.44288577 59.49098196 59.53907816 59.58717435 59.63527054 59.68336673\n",
            " 59.73146293 59.77955912 59.82765531 59.8757515  59.9238477  59.97194389\n",
            " 60.02004008 60.06813627 60.11623246 60.16432866 60.21242485 60.26052104\n",
            " 60.30861723 60.35671343]  y los primeros 5o pdr, pdf[0:50]\n"
          ]
        }
      ]
    },
    {
      "cell_type": "code",
      "source": [
        "#Para no imprimir toda la lista de valores (500), desplegamos los primeros 50\n"
      ],
      "metadata": {
        "id": "hYweBLDKvsl_"
      },
      "execution_count": null,
      "outputs": []
    }
  ]
}