{
  "nbformat": 4,
  "nbformat_minor": 0,
  "metadata": {
    "colab": {
      "provenance": [],
      "authorship_tag": "ABX9TyN1MtL6am84QE0Q8pJEOGWC",
      "include_colab_link": true
    },
    "kernelspec": {
      "name": "python3",
      "display_name": "Python 3"
    },
    "language_info": {
      "name": "python"
    }
  },
  "cells": [
    {
      "cell_type": "markdown",
      "metadata": {
        "id": "view-in-github",
        "colab_type": "text"
      },
      "source": [
        "<a href=\"https://colab.research.google.com/github/Jarnami/PROBABILIDAD-Y-ESTADISTICA-/blob/main/UNIDAD%203/valor%20esperado.ipynb\" target=\"_parent\"><img src=\"https://colab.research.google.com/assets/colab-badge.svg\" alt=\"Open In Colab\"/></a>"
      ]
    },
    {
      "cell_type": "markdown",
      "source": [
        "# **UNIDAD 3**\n",
        "## Jatziri Nahomi Morales Rodriguez\n",
        "\n",
        "# **EJERCICIOS VALOR ESPERADO**"
      ],
      "metadata": {
        "id": "TaCB9KFtszFI"
      }
    },
    {
      "cell_type": "code",
      "execution_count": 1,
      "metadata": {
        "id": "TyXMsiilswcs"
      },
      "outputs": [],
      "source": [
        "\n",
        "import numpy as np\n",
        "from scipy.stats import binom"
      ]
    },
    {
      "cell_type": "markdown",
      "source": [
        "## **TORNEO DE POKER**"
      ],
      "metadata": {
        "id": "dRVqoIh_s_hL"
      }
    },
    {
      "cell_type": "code",
      "source": [
        "\n",
        "# Posibles ganancias o pérdidas\n",
        "X = np.array([490000, -10000])\n",
        "\n",
        "# Probabilidades respectivas\n",
        "P = np.array([0.005, 0.995])\n",
        "\n",
        "# Cálculo del valor esperado\n",
        "valor_esperado = np.sum(X * P)\n",
        "\n",
        "print(f\"El valor esperado es: {valor_esperado} mil dólares\")"
      ],
      "metadata": {
        "colab": {
          "base_uri": "https://localhost:8080/"
        },
        "id": "_Ry3SQODs5u8",
        "outputId": "ff9e736f-1a81-4fca-8ba1-4b7574db765c"
      },
      "execution_count": 2,
      "outputs": [
        {
          "output_type": "stream",
          "name": "stdout",
          "text": [
            "El valor esperado es: -7500.0 mil dólares\n"
          ]
        }
      ]
    },
    {
      "cell_type": "markdown",
      "source": [
        "## **VIAJE EN TREN DE ALICE**"
      ],
      "metadata": {
        "id": "CQJGN_ZTtHjo"
      }
    },
    {
      "cell_type": "code",
      "source": [
        "# Posibles costos del viaje\n",
        "X = np.array([5, 305])\n",
        "\n",
        "# Probabilidades respectivas\n",
        "P = np.array([0.95, 0.05])\n",
        "\n",
        "# Cálculo del valor esperado\n",
        "costo_esperado = np.sum(X * P)\n",
        "\n",
        "print(f\"El costo total esperado del viaje es: {costo_esperado} euros\")\n",
        "\n",
        "#El costo total esperado del viaje en tren de Alice es 20 euros.\n",
        "#Aunque el boleto costó solo 5 euros, el riesgo de la multa aumenta el costo promedio del viaje.\n",
        ""
      ],
      "metadata": {
        "colab": {
          "base_uri": "https://localhost:8080/"
        },
        "id": "C5wLsrR7tNMz",
        "outputId": "34813338-7b3a-4954-da79-12b8a3a047f2"
      },
      "execution_count": 3,
      "outputs": [
        {
          "output_type": "stream",
          "name": "stdout",
          "text": [
            "El costo total esperado del viaje es: 20.0 euros\n"
          ]
        }
      ]
    },
    {
      "cell_type": "markdown",
      "source": [
        "## **DADO 6 CARAS**"
      ],
      "metadata": {
        "id": "X04qH_y_tTVF"
      }
    },
    {
      "cell_type": "code",
      "source": [
        "\n",
        "# Posibles valores del dado\n",
        "valores = np.array([1, 2, 3, 4, 5, 6])\n",
        "\n",
        "# Probabilidades (todas iguales en un dado justo)\n",
        "probabilidades = np.full(6, 1/6)\n",
        "\n",
        "# Calculamos el valor esperado\n",
        "valor_esperado = np.sum(valores * probabilidades)\n",
        "\n",
        "# Mostramos el resultado\n",
        "print(\"El valor esperado del dado es:\", valor_esperado)"
      ],
      "metadata": {
        "colab": {
          "base_uri": "https://localhost:8080/"
        },
        "id": "k3eirXWdtYOX",
        "outputId": "6063cfb3-fdd3-4bf6-9227-44efe388a5d8"
      },
      "execution_count": 4,
      "outputs": [
        {
          "output_type": "stream",
          "name": "stdout",
          "text": [
            "El valor esperado del dado es: 3.5\n"
          ]
        }
      ]
    },
    {
      "cell_type": "code",
      "source": [
        "# 1. ¿El dado tiene más probabilidad de caer en 4 que en 6?\n",
        "print(\"¿El número 4 tiene más probabilidad que el 6?\", 1/6 > 1/6)  # Falso\n",
        "\n",
        "# 2. ¿3.5 es un resultado posible en un lanzamiento?\n",
        "print(\"¿3.5 puede ser un resultado?\", 3.5 in valores)  # Falso\n",
        "\n",
        "# 3. ¿El promedio de muchos lanzamientos se acerca a 3.5?\n",
        "simulaciones = np.random.choice(valores, size=100000)  # 100,000 lanzamientos\n",
        "promedio = np.mean(simulaciones)\n",
        "print(\"Promedio de muchos lanzamientos:\", promedio)  # Debe acercarse a 3.5"
      ],
      "metadata": {
        "colab": {
          "base_uri": "https://localhost:8080/"
        },
        "id": "GPpd45sutaZ5",
        "outputId": "562feccd-aeb5-4253-ccd2-556a700ce04d"
      },
      "execution_count": 6,
      "outputs": [
        {
          "output_type": "stream",
          "name": "stdout",
          "text": [
            "¿El número 4 tiene más probabilidad que el 6? False\n",
            "¿3.5 puede ser un resultado? False\n",
            "Promedio de muchos lanzamientos: 3.49776\n"
          ]
        }
      ]
    },
    {
      "cell_type": "markdown",
      "source": [
        "## **APUESTA DE IVY**"
      ],
      "metadata": {
        "id": "B0KVwZRrtgBG"
      }
    },
    {
      "cell_type": "code",
      "source": [
        "\n",
        "# Definimos los resultados posibles y sus probabilidades\n",
        "ganancia_dragones = 10\n",
        "perdida_tortugas = -11\n",
        "prob_ganar = 0.5\n",
        "prob_perder = 0.5\n",
        "\n",
        "# Calculamos el valor esperado\n",
        "valor_esperado = (ganancia_dragones * prob_ganar) + (perdida_tortugas * prob_perder)\n",
        "\n",
        "# Mostramos el resultado\n",
        "print(\"El valor esperado de la apuesta es:\", valor_esperado, \"Dólares\")"
      ],
      "metadata": {
        "colab": {
          "base_uri": "https://localhost:8080/"
        },
        "id": "X016qrJMtjdt",
        "outputId": "510c6011-bf7f-4e68-abc9-44e0582f9b0e"
      },
      "execution_count": 5,
      "outputs": [
        {
          "output_type": "stream",
          "name": "stdout",
          "text": [
            "El valor esperado de la apuesta es: -0.5 Dólares\n"
          ]
        }
      ]
    }
  ]
}